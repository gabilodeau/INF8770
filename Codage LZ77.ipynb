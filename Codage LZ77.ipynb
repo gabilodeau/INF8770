{
  "nbformat": 4,
  "nbformat_minor": 0,
  "metadata": {
    "kernelspec": {
      "display_name": "Python 3",
      "language": "python",
      "name": "python3"
    },
    "language_info": {
      "codemirror_mode": {
        "name": "ipython",
        "version": 3
      },
      "file_extension": ".py",
      "mimetype": "text/x-python",
      "name": "python",
      "nbconvert_exporter": "python",
      "pygments_lexer": "ipython3",
      "version": "3.7.3"
    },
    "colab": {
      "name": "Codage LZ77.ipynb",
      "provenance": [],
      "include_colab_link": true
    }
  },
  "cells": [
    {
      "cell_type": "markdown",
      "metadata": {
        "id": "view-in-github",
        "colab_type": "text"
      },
      "source": [
        "<a href=\"https://colab.research.google.com/github/gabilodeau/INF8770/blob/master/Codage%20LZ77.ipynb\" target=\"_parent\"><img src=\"https://colab.research.google.com/assets/colab-badge.svg\" alt=\"Open In Colab\"/></a>"
      ]
    },
    {
      "cell_type": "markdown",
      "metadata": {
        "id": "ewoVov79hKE9"
      },
      "source": [
        "INF8770 Technologies multimédias\n",
        "\n",
        "Polytechnique Montréal\n",
        "\n",
        "Exemple de codage LZ77\n",
        "\n",
        "Code original par Hughes Perreault. Version Notebook par G.-A. Bilodeau"
      ]
    },
    {
      "cell_type": "markdown",
      "metadata": {
        "id": "aKnE9vhhhKE_"
      },
      "source": [
        "Message à compresser. Ici, une chaine de caractères."
      ]
    },
    {
      "cell_type": "code",
      "metadata": {
        "id": "3Heq5COzhKFC"
      },
      "source": [
        "message = \"CBAAAAAAAAAAAAAAAAAAAAABAABAACD\""
      ],
      "execution_count": 1,
      "outputs": []
    },
    {
      "cell_type": "markdown",
      "metadata": {
        "id": "uc0ha1Y5hKFN"
      },
      "source": [
        "Paramètre de la méthode. Il faut choisir la taille du dictionnaire."
      ]
    },
    {
      "cell_type": "code",
      "metadata": {
        "id": "jVNzq4dyhKFP"
      },
      "source": [
        "tailleDict = 6  # Taille du dictionnaire (0,1,2,3,...)"
      ],
      "execution_count": 13,
      "outputs": []
    },
    {
      "cell_type": "markdown",
      "metadata": {
        "id": "399Nvkg5hKFX"
      },
      "source": [
        "Application du codage LZ77."
      ]
    },
    {
      "cell_type": "code",
      "metadata": {
        "id": "JHo8VEsChKFY",
        "colab": {
          "base_uri": "https://localhost:8080/"
        },
        "outputId": "15376771-7011-4767-ef37-05d60626b4b3"
      },
      "source": [
        "triplets = []  # Pour sauvegarder les triplets\n",
        "\n",
        "index = 0  # Position courante dans le message\n",
        "while index < len(message):\n",
        "    symbDict = message[max(0, index - tailleDict): index]  # Symboles disponibles du dictionnaire\n",
        "    decalage = 0\n",
        "    if len(symbDict) < tailleDict:\n",
        "        decalage = tailleDict - len(symbDict) - 1 #Pour ajuster les indices de position quand le dictionnaire n'est pas plein.\n",
        "    print(symbDict)\n",
        "    sousChaine = message[index:len(message)-1] #Le dernier caractère sera ajouté comme 3e élément du dernier triplet\n",
        "\n",
        "    # On cherche la sous-chaine la plus longue\n",
        "    pos, length = 0, 0\n",
        "    while len(sousChaine) > 0:\n",
        "        if sousChaine in symbDict:\n",
        "            pos, length = symbDict.rfind(sousChaine), len(sousChaine) #dernière occurrence si plusieurs choix\n",
        "            break\n",
        "        sousChaine = sousChaine[:-1] # On a pas trouvé, donc on enlève un élément.\n",
        "     \n",
        "    # Regarde ensuite si on peut allonger la sous-chaine trouvée après la position de l'index: AB|ABABABABAB\n",
        "    increment = 0\n",
        "    while length > 0 \\\n",
        "            and index+length+increment < (len(message)-1) \\\n",
        "            and message[index-len(symbDict)+pos+length+increment] == message[index+length+increment]:\n",
        "        increment += 1\n",
        "    length += increment\n",
        "\n",
        "    # Enregistrement des triplets\n",
        "    c = message[index + length]  #Caractère suivant non encodé.\n",
        "\n",
        "    if length == 0:\n",
        "      decalage = 0\n",
        "\n",
        "    triplets.append((pos - decalage, length, c))\n",
        "\n",
        "    index += max(length+1, 1)  # Avance la position dans le message\n",
        "\n",
        "    print(triplets)"
      ],
      "execution_count": 15,
      "outputs": [
        {
          "output_type": "stream",
          "name": "stdout",
          "text": [
            "\n",
            "[(0, 0, 'C')]\n",
            "C\n",
            "[(0, 0, 'C'), (0, 0, 'B')]\n",
            "CB\n",
            "[(0, 0, 'C'), (0, 0, 'B'), (0, 0, 'A')]\n",
            "CBA\n",
            "[(0, 0, 'C'), (0, 0, 'B'), (0, 0, 'A'), (0, 20, 'B')]\n",
            "AAAAAB\n",
            "[(0, 0, 'C'), (0, 0, 'B'), (0, 0, 'A'), (0, 20, 'B'), (3, 5, 'C')]\n",
            "AABAAC\n",
            "[(0, 0, 'C'), (0, 0, 'B'), (0, 0, 'A'), (0, 20, 'B'), (3, 5, 'C'), (0, 0, 'D')]\n"
          ]
        }
      ]
    },
    {
      "cell_type": "markdown",
      "metadata": {
        "id": "FevmjX9ehKFh"
      },
      "source": [
        "Décodage du message. "
      ]
    },
    {
      "cell_type": "code",
      "metadata": {
        "id": "GYCw_0CRhKFi",
        "colab": {
          "base_uri": "https://localhost:8080/",
          "height": 51
        },
        "outputId": "d5996c68-ca57-4411-c755-331952a2998b"
      },
      "source": [
        "messageDecode = ''\n",
        "for triplet in triplets:\n",
        "    pos, length, char = triplet[0], triplet[1], triplet[2]\n",
        "    if (pos, length) == (0, 0):\n",
        "        messageDecode += char\n",
        "    else:\n",
        "        start = max(0, len(messageDecode) - tailleDict)\n",
        "        for i in range(length):\n",
        "            messageDecode += messageDecode[start+pos+i]\n",
        "        messageDecode += char\n",
        "print(messageDecode)\n",
        "print(message == messageDecode)"
      ],
      "execution_count": null,
      "outputs": [
        {
          "output_type": "stream",
          "text": [
            "ABAACABAABBAABBABCEDAABADA\n",
            "True\n"
          ],
          "name": "stdout"
        }
      ]
    },
    {
      "cell_type": "code",
      "metadata": {
        "id": "fIUY1RVAhKFn",
        "colab": {
          "base_uri": "https://localhost:8080/",
          "height": 34
        },
        "outputId": "9ee5bd67-9d95-42e1-b5cb-aeba47db6cde"
      },
      "source": [
        "print('Taux de compression: ', 1 - (len(triplets) * 3) / (len(message))) \n",
        "#On suppose des octets pour position, longueur"
      ],
      "execution_count": null,
      "outputs": [
        {
          "output_type": "stream",
          "text": [
            "Taux de compression:  -0.7307692307692308\n"
          ],
          "name": "stdout"
        }
      ]
    },
    {
      "cell_type": "code",
      "metadata": {
        "id": "xn8gDKpwhKFr"
      },
      "source": [
        ""
      ],
      "execution_count": null,
      "outputs": []
    }
  ]
}